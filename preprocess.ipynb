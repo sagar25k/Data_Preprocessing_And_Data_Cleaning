{
 "cells": [
  {
   "cell_type": "code",
   "execution_count": 1,
   "id": "f3c84a4e-6c65-4cc8-9e8c-36d97ff5837a",
   "metadata": {},
   "outputs": [],
   "source": [
    "import pandas as pd\n",
    "import numpy as np\n",
    "from sklearn.preprocessing import StandardScaler, LabelEncoder\n",
    "from sklearn.feature_selection import VarianceThreshold\n",
    "from imblearn.over_sampling import SMOTE\n"
   ]
  },
  {
   "cell_type": "code",
   "execution_count": 2,
   "id": "cea99038-dcaa-4bb7-8c6a-fd549dedd70f",
   "metadata": {},
   "outputs": [
    {
     "name": "stdout",
     "output_type": "stream",
     "text": [
      "(1048575, 80)\n"
     ]
    }
   ],
   "source": [
    "data = pd.read_csv(\"CSE-CIC-IDS2018.csv\")\n",
    "print(data.shape)\n"
   ]
  },
  {
   "cell_type": "code",
   "execution_count": 3,
   "id": "532fc60c-1362-40e5-a163-fa178d021bc0",
   "metadata": {},
   "outputs": [
    {
     "name": "stdout",
     "output_type": "stream",
     "text": [
      "Shape after removing duplicates: (1031018, 80)\n"
     ]
    }
   ],
   "source": [
    "data = data.drop_duplicates()\n",
    "print(f\"Shape after removing duplicates: {data.shape}\")\n"
   ]
  },
  {
   "cell_type": "code",
   "execution_count": 4,
   "id": "b4228dbd-5948-4942-8f1f-b1e88b6669d8",
   "metadata": {},
   "outputs": [
    {
     "data": {
      "text/plain": [
       "Index(['dst_port', 'protocol', 'timestamp', 'flow_duration', 'tot_fwd_pkts',\n",
       "       'tot_bwd_pkts', 'totlen_fwd_pkts', 'totlen_bwd_pkts', 'fwd_pkt_len_max',\n",
       "       'fwd_pkt_len_min', 'fwd_pkt_len_mean', 'fwd_pkt_len_std',\n",
       "       'bwd_pkt_len_max', 'bwd_pkt_len_min', 'bwd_pkt_len_mean',\n",
       "       'bwd_pkt_len_std', 'flow_byts/s', 'flow_pkts/s', 'flow_iat_mean',\n",
       "       'flow_iat_std', 'flow_iat_max', 'flow_iat_min', 'fwd_iat_tot',\n",
       "       'fwd_iat_mean', 'fwd_iat_std', 'fwd_iat_max', 'fwd_iat_min',\n",
       "       'bwd_iat_tot', 'bwd_iat_mean', 'bwd_iat_std', 'bwd_iat_max',\n",
       "       'bwd_iat_min', 'fwd_psh_flags', 'bwd_psh_flags', 'fwd_urg_flags',\n",
       "       'bwd_urg_flags', 'fwd_header_len', 'bwd_header_len', 'fwd_pkts/s',\n",
       "       'bwd_pkts/s', 'pkt_len_min', 'pkt_len_max', 'pkt_len_mean',\n",
       "       'pkt_len_std', 'pkt_len_var', 'fin_flag_cnt', 'syn_flag_cnt',\n",
       "       'rst_flag_cnt', 'psh_flag_cnt', 'ack_flag_cnt', 'urg_flag_cnt',\n",
       "       'cwe_flag_count', 'ece_flag_cnt', 'down/up_ratio', 'pkt_size_avg',\n",
       "       'fwd_seg_size_avg', 'bwd_seg_size_avg', 'fwd_byts/b_avg',\n",
       "       'fwd_pkts/b_avg', 'fwd_blk_rate_avg', 'bwd_byts/b_avg',\n",
       "       'bwd_pkts/b_avg', 'bwd_blk_rate_avg', 'subflow_fwd_pkts',\n",
       "       'subflow_fwd_byts', 'subflow_bwd_pkts', 'subflow_bwd_byts',\n",
       "       'init_fwd_win_byts', 'init_bwd_win_byts', 'fwd_act_data_pkts',\n",
       "       'fwd_seg_size_min', 'active_mean', 'active_std', 'active_max',\n",
       "       'active_min', 'idle_mean', 'idle_std', 'idle_max', 'idle_min', 'label'],\n",
       "      dtype='object')"
      ]
     },
     "execution_count": 4,
     "metadata": {},
     "output_type": "execute_result"
    }
   ],
   "source": [
    "data.columns = data.columns.str.strip().str.replace(' ', '_').str.lower()\n",
    "data.columns"
   ]
  },
  {
   "cell_type": "code",
   "execution_count": 5,
   "id": "31486f5a-841f-4b2a-9488-73b9b2bc11f5",
   "metadata": {},
   "outputs": [
    {
     "name": "stdout",
     "output_type": "stream",
     "text": [
      "Missing values handled.\n"
     ]
    }
   ],
   "source": [
    "# Handle missing values for numerical columns\n",
    "numerical_cols = data.select_dtypes(include=['float64', 'int64']).columns\n",
    "data[numerical_cols] = data[numerical_cols].fillna(data[numerical_cols].median())\n",
    "\n",
    "# Handle missing values for categorical columns\n",
    "categorical_cols = data.select_dtypes(include=['object', 'category']).columns\n",
    "data[categorical_cols] = data[categorical_cols].fillna(data[categorical_cols].mode().iloc[0])\n",
    "\n",
    "print(\"Missing values handled.\")\n"
   ]
  },
  {
   "cell_type": "code",
   "execution_count": 6,
   "id": "e7762b04-7a11-4d7f-91cd-70a6c0626ea9",
   "metadata": {},
   "outputs": [],
   "source": [
    "encoder = LabelEncoder()\n",
    "for col in categorical_cols:\n",
    "    data[col] = encoder.fit_transform(data[col])\n"
   ]
  },
  {
   "cell_type": "code",
   "execution_count": 7,
   "id": "1d3266dd-b95d-4405-a10b-a09d53f37674",
   "metadata": {},
   "outputs": [
    {
     "name": "stdout",
     "output_type": "stream",
     "text": [
      "Numerical columns identified: Index(['dst_port', 'protocol', 'flow_duration', 'tot_fwd_pkts', 'tot_bwd_pkts',\n",
      "       'totlen_fwd_pkts', 'totlen_bwd_pkts', 'fwd_pkt_len_max',\n",
      "       'fwd_pkt_len_min', 'fwd_pkt_len_mean', 'fwd_pkt_len_std',\n",
      "       'bwd_pkt_len_max', 'bwd_pkt_len_min', 'bwd_pkt_len_mean',\n",
      "       'bwd_pkt_len_std', 'flow_byts/s', 'flow_pkts/s', 'flow_iat_mean',\n",
      "       'flow_iat_std', 'flow_iat_max', 'flow_iat_min', 'fwd_iat_tot',\n",
      "       'fwd_iat_mean', 'fwd_iat_std', 'fwd_iat_max', 'fwd_iat_min',\n",
      "       'bwd_iat_tot', 'bwd_iat_mean', 'bwd_iat_std', 'bwd_iat_max',\n",
      "       'bwd_iat_min', 'fwd_psh_flags', 'bwd_psh_flags', 'fwd_urg_flags',\n",
      "       'bwd_urg_flags', 'fwd_header_len', 'bwd_header_len', 'fwd_pkts/s',\n",
      "       'bwd_pkts/s', 'pkt_len_min', 'pkt_len_max', 'pkt_len_mean',\n",
      "       'pkt_len_std', 'pkt_len_var', 'fin_flag_cnt', 'syn_flag_cnt',\n",
      "       'rst_flag_cnt', 'psh_flag_cnt', 'ack_flag_cnt', 'urg_flag_cnt',\n",
      "       'cwe_flag_count', 'ece_flag_cnt', 'down/up_ratio', 'pkt_size_avg',\n",
      "       'fwd_seg_size_avg', 'bwd_seg_size_avg', 'fwd_byts/b_avg',\n",
      "       'fwd_pkts/b_avg', 'fwd_blk_rate_avg', 'bwd_byts/b_avg',\n",
      "       'bwd_pkts/b_avg', 'bwd_blk_rate_avg', 'subflow_fwd_pkts',\n",
      "       'subflow_fwd_byts', 'subflow_bwd_pkts', 'subflow_bwd_byts',\n",
      "       'init_fwd_win_byts', 'init_bwd_win_byts', 'fwd_act_data_pkts',\n",
      "       'fwd_seg_size_min', 'active_mean', 'active_std', 'active_max',\n",
      "       'active_min', 'idle_mean', 'idle_std', 'idle_max', 'idle_min'],\n",
      "      dtype='object')\n"
     ]
    }
   ],
   "source": [
    "numerical_cols = data.select_dtypes(include=['float64', 'int64']).columns\n",
    "if numerical_cols.empty:\n",
    "    print(\"No numerical columns found!\")\n",
    "else:\n",
    "    print(f\"Numerical columns identified: {numerical_cols}\")\n"
   ]
  },
  {
   "cell_type": "code",
   "execution_count": 8,
   "id": "7cce9cea-775c-471a-8689-5815a40a0fc9",
   "metadata": {},
   "outputs": [
    {
     "name": "stdout",
     "output_type": "stream",
     "text": [
      "Shape after SMOTE: (2005383, 80)\n"
     ]
    }
   ],
   "source": [
    "if 'label' in data.columns:\n",
    "    X = data.drop('label', axis=1)\n",
    "    y = data['label']\n",
    "    \n",
    "    smote = SMOTE(random_state=42)\n",
    "    X_resampled, y_resampled = smote.fit_resample(X, y)\n",
    "    \n",
    "    data = pd.concat([pd.DataFrame(X_resampled, columns=X.columns), pd.DataFrame(y_resampled, columns=['label'])], axis=1)\n",
    "\n",
    "print(f\"Shape after SMOTE: {data.shape}\")\n"
   ]
  },
  {
   "cell_type": "code",
   "execution_count": 9,
   "id": "3e6d8fd4-82c4-46e9-9afb-6a3307de62f3",
   "metadata": {},
   "outputs": [
    {
     "name": "stdout",
     "output_type": "stream",
     "text": [
      "Shape after removing outliers: (0, 80)\n"
     ]
    }
   ],
   "source": [
    "for col in numerical_cols:\n",
    "    z_scores = (data[col] - data[col].mean()) / data[col].std()\n",
    "    data = data[(z_scores.abs() <= 3)]\n",
    "\n",
    "print(f\"Shape after removing outliers: {data.shape}\")\n"
   ]
  },
  {
   "cell_type": "code",
   "execution_count": 10,
   "id": "fa18d435-df43-47ad-8cfb-62a5cb0104a0",
   "metadata": {},
   "outputs": [
    {
     "name": "stdout",
     "output_type": "stream",
     "text": [
      "Numerical columns identified: Index(['dst_port', 'protocol', 'flow_duration', 'tot_fwd_pkts', 'tot_bwd_pkts',\n",
      "       'totlen_fwd_pkts', 'totlen_bwd_pkts', 'fwd_pkt_len_max',\n",
      "       'fwd_pkt_len_min', 'fwd_pkt_len_mean', 'fwd_pkt_len_std',\n",
      "       'bwd_pkt_len_max', 'bwd_pkt_len_min', 'bwd_pkt_len_mean',\n",
      "       'bwd_pkt_len_std', 'flow_byts/s', 'flow_pkts/s', 'flow_iat_mean',\n",
      "       'flow_iat_std', 'flow_iat_max', 'flow_iat_min', 'fwd_iat_tot',\n",
      "       'fwd_iat_mean', 'fwd_iat_std', 'fwd_iat_max', 'fwd_iat_min',\n",
      "       'bwd_iat_tot', 'bwd_iat_mean', 'bwd_iat_std', 'bwd_iat_max',\n",
      "       'bwd_iat_min', 'fwd_psh_flags', 'bwd_psh_flags', 'fwd_urg_flags',\n",
      "       'bwd_urg_flags', 'fwd_header_len', 'bwd_header_len', 'fwd_pkts/s',\n",
      "       'bwd_pkts/s', 'pkt_len_min', 'pkt_len_max', 'pkt_len_mean',\n",
      "       'pkt_len_std', 'pkt_len_var', 'fin_flag_cnt', 'syn_flag_cnt',\n",
      "       'rst_flag_cnt', 'psh_flag_cnt', 'ack_flag_cnt', 'urg_flag_cnt',\n",
      "       'cwe_flag_count', 'ece_flag_cnt', 'down/up_ratio', 'pkt_size_avg',\n",
      "       'fwd_seg_size_avg', 'bwd_seg_size_avg', 'fwd_byts/b_avg',\n",
      "       'fwd_pkts/b_avg', 'fwd_blk_rate_avg', 'bwd_byts/b_avg',\n",
      "       'bwd_pkts/b_avg', 'bwd_blk_rate_avg', 'subflow_fwd_pkts',\n",
      "       'subflow_fwd_byts', 'subflow_bwd_pkts', 'subflow_bwd_byts',\n",
      "       'init_fwd_win_byts', 'init_bwd_win_byts', 'fwd_act_data_pkts',\n",
      "       'fwd_seg_size_min', 'active_mean', 'active_std', 'active_max',\n",
      "       'active_min', 'idle_mean', 'idle_std', 'idle_max', 'idle_min'],\n",
      "      dtype='object')\n"
     ]
    }
   ],
   "source": [
    "numerical_cols = data.select_dtypes(include=['float64', 'int64']).columns\n",
    "print(\"Numerical columns identified:\", numerical_cols)\n"
   ]
  },
  {
   "cell_type": "code",
   "execution_count": 11,
   "id": "e573c431-3611-438f-b1d1-fbe1508b9db6",
   "metadata": {},
   "outputs": [
    {
     "name": "stdout",
     "output_type": "stream",
     "text": [
      "Missing values per numerical column:\n",
      "dst_port         0\n",
      "protocol         0\n",
      "flow_duration    0\n",
      "tot_fwd_pkts     0\n",
      "tot_bwd_pkts     0\n",
      "                ..\n",
      "active_min       0\n",
      "idle_mean        0\n",
      "idle_std         0\n",
      "idle_max         0\n",
      "idle_min         0\n",
      "Length: 78, dtype: int64\n"
     ]
    }
   ],
   "source": [
    "# Check for missing values in the numerical columns\n",
    "missing_values = data[numerical_cols].isnull().sum()\n",
    "print(\"Missing values per numerical column:\")\n",
    "print(missing_values)\n"
   ]
  },
  {
   "cell_type": "code",
   "execution_count": 12,
   "id": "0010f8fa-f03d-4f58-99ed-643f32001bd7",
   "metadata": {},
   "outputs": [],
   "source": [
    "# Fill missing values with the mean for each column\n",
    "data[numerical_cols] = data[numerical_cols].fillna(data[numerical_cols].mean())\n"
   ]
  },
  {
   "cell_type": "code",
   "execution_count": 13,
   "id": "3715ae3a-6ddd-46c3-bc05-214daae6d838",
   "metadata": {},
   "outputs": [
    {
     "name": "stdout",
     "output_type": "stream",
     "text": [
      "Data shape: (0, 80)\n"
     ]
    }
   ],
   "source": [
    "# Check the shape of the DataFrame\n",
    "print(\"Data shape:\", data.shape)\n"
   ]
  },
  {
   "cell_type": "code",
   "execution_count": 14,
   "id": "ff473230-1f85-472b-8c81-bba3a853e765",
   "metadata": {},
   "outputs": [
    {
     "name": "stdout",
     "output_type": "stream",
     "text": [
      "Empty DataFrame\n",
      "Columns: [dst_port, protocol, timestamp, flow_duration, tot_fwd_pkts, tot_bwd_pkts, totlen_fwd_pkts, totlen_bwd_pkts, fwd_pkt_len_max, fwd_pkt_len_min, fwd_pkt_len_mean, fwd_pkt_len_std, bwd_pkt_len_max, bwd_pkt_len_min, bwd_pkt_len_mean, bwd_pkt_len_std, flow_byts/s, flow_pkts/s, flow_iat_mean, flow_iat_std, flow_iat_max, flow_iat_min, fwd_iat_tot, fwd_iat_mean, fwd_iat_std, fwd_iat_max, fwd_iat_min, bwd_iat_tot, bwd_iat_mean, bwd_iat_std, bwd_iat_max, bwd_iat_min, fwd_psh_flags, bwd_psh_flags, fwd_urg_flags, bwd_urg_flags, fwd_header_len, bwd_header_len, fwd_pkts/s, bwd_pkts/s, pkt_len_min, pkt_len_max, pkt_len_mean, pkt_len_std, pkt_len_var, fin_flag_cnt, syn_flag_cnt, rst_flag_cnt, psh_flag_cnt, ack_flag_cnt, urg_flag_cnt, cwe_flag_count, ece_flag_cnt, down/up_ratio, pkt_size_avg, fwd_seg_size_avg, bwd_seg_size_avg, fwd_byts/b_avg, fwd_pkts/b_avg, fwd_blk_rate_avg, bwd_byts/b_avg, bwd_pkts/b_avg, bwd_blk_rate_avg, subflow_fwd_pkts, subflow_fwd_byts, subflow_bwd_pkts, subflow_bwd_byts, init_fwd_win_byts, init_bwd_win_byts, fwd_act_data_pkts, fwd_seg_size_min, active_mean, active_std, active_max, active_min, idle_mean, idle_std, idle_max, idle_min, label]\n",
      "Index: []\n",
      "\n",
      "[0 rows x 80 columns]\n"
     ]
    }
   ],
   "source": [
    "# Check the first few rows of the DataFrame to verify that data is loaded\n",
    "print(data.head())\n"
   ]
  },
  {
   "cell_type": "code",
   "execution_count": 15,
   "id": "9f6a6fdd-378d-40ae-8358-944d6a4b018d",
   "metadata": {},
   "outputs": [
    {
     "name": "stdout",
     "output_type": "stream",
     "text": [
      "Data shape after loading: (1048575, 80)\n"
     ]
    }
   ],
   "source": [
    "# Assuming you're loading from a CSV file\n",
    "data = pd.read_csv('CSE-CIC-IDS2018.csv')\n",
    "print(\"Data shape after loading:\", data.shape)\n"
   ]
  },
  {
   "cell_type": "code",
   "execution_count": 16,
   "id": "b3692d95-4f48-4e49-91d4-d45b93fb1784",
   "metadata": {},
   "outputs": [
    {
     "name": "stdout",
     "output_type": "stream",
     "text": [
      "Data shape before any preprocessing: (1048575, 80)\n"
     ]
    }
   ],
   "source": [
    "# Check if any filtering is done before this step\n",
    "print(\"Data shape before any preprocessing:\", data.shape)\n"
   ]
  },
  {
   "cell_type": "code",
   "execution_count": 17,
   "id": "8ba33508-1874-44ec-8355-a39b36f6b573",
   "metadata": {},
   "outputs": [
    {
     "name": "stdout",
     "output_type": "stream",
     "text": [
      "Numerical columns: Index(['dst_port', 'protocol', 'flow_duration', 'tot_fwd_pkts', 'tot_bwd_pkts',\n",
      "       'totlen_fwd_pkts', 'totlen_bwd_pkts', 'fwd_pkt_len_max',\n",
      "       'fwd_pkt_len_min', 'fwd_pkt_len_mean', 'fwd_pkt_len_std',\n",
      "       'bwd_pkt_len_max', 'bwd_pkt_len_min', 'bwd_pkt_len_mean',\n",
      "       'bwd_pkt_len_std', 'flow_byts/s', 'flow_pkts/s', 'flow_iat_mean',\n",
      "       'flow_iat_std', 'flow_iat_max', 'flow_iat_min', 'fwd_iat_tot',\n",
      "       'fwd_iat_mean', 'fwd_iat_std', 'fwd_iat_max', 'fwd_iat_min',\n",
      "       'bwd_iat_tot', 'bwd_iat_mean', 'bwd_iat_std', 'bwd_iat_max',\n",
      "       'bwd_iat_min', 'fwd_psh_flags', 'bwd_psh_flags', 'fwd_urg_flags',\n",
      "       'bwd_urg_flags', 'fwd_header_len', 'bwd_header_len', 'fwd_pkts/s',\n",
      "       'bwd_pkts/s', 'pkt_len_min', 'pkt_len_max', 'pkt_len_mean',\n",
      "       'pkt_len_std', 'pkt_len_var', 'fin_flag_cnt', 'syn_flag_cnt',\n",
      "       'rst_flag_cnt', 'psh_flag_cnt', 'ack_flag_cnt', 'urg_flag_cnt',\n",
      "       'cwe_flag_count', 'ece_flag_cnt', 'down/up_ratio', 'pkt_size_avg',\n",
      "       'fwd_seg_size_avg', 'bwd_seg_size_avg', 'fwd_byts/b_avg',\n",
      "       'fwd_pkts/b_avg', 'fwd_blk_rate_avg', 'bwd_byts/b_avg',\n",
      "       'bwd_pkts/b_avg', 'bwd_blk_rate_avg', 'subflow_fwd_pkts',\n",
      "       'subflow_fwd_byts', 'subflow_bwd_pkts', 'subflow_bwd_byts',\n",
      "       'init_fwd_win_byts', 'init_bwd_win_byts', 'fwd_act_data_pkts',\n",
      "       'fwd_seg_size_min', 'active_mean', 'active_std', 'active_max',\n",
      "       'active_min', 'idle_mean', 'idle_std', 'idle_max', 'idle_min'],\n",
      "      dtype='object')\n"
     ]
    }
   ],
   "source": [
    "print(\"Numerical columns:\", numerical_cols)\n"
   ]
  },
  {
   "cell_type": "code",
   "execution_count": 18,
   "id": "0e5d4a3e-7393-4803-a372-a1de68d5c2d1",
   "metadata": {},
   "outputs": [
    {
     "name": "stdout",
     "output_type": "stream",
     "text": [
      "Data before preprocessing: (1048575, 80)\n",
      "Data after dropping NaN values: (1048575, 80)\n"
     ]
    }
   ],
   "source": [
    "print(\"Data before preprocessing:\", data.shape)\n",
    "data = data.dropna()  # Ensure this doesn't remove all rows\n",
    "print(\"Data after dropping NaN values:\", data.shape)\n"
   ]
  },
  {
   "cell_type": "code",
   "execution_count": 19,
   "id": "6f7e784c-8d6f-4b6b-8dbd-9a6360aec789",
   "metadata": {},
   "outputs": [
    {
     "name": "stdout",
     "output_type": "stream",
     "text": [
      "Data after applying filter (if any): (1048575, 80)\n"
     ]
    }
   ],
   "source": [
    "# Check if any filtering condition was applied\n",
    "print(\"Data after applying filter (if any):\", data.shape)\n"
   ]
  },
  {
   "cell_type": "code",
   "execution_count": 21,
   "id": "96e2257c-6b21-4c29-a691-6f77d4464e47",
   "metadata": {},
   "outputs": [
    {
     "name": "stdout",
     "output_type": "stream",
     "text": [
      "Columns in the DataFrame: Index(['Dst Port', 'Protocol', 'Timestamp', 'Flow Duration', 'Tot Fwd Pkts',\n",
      "       'Tot Bwd Pkts', 'TotLen Fwd Pkts', 'TotLen Bwd Pkts', 'Fwd Pkt Len Max',\n",
      "       'Fwd Pkt Len Min', 'Fwd Pkt Len Mean', 'Fwd Pkt Len Std',\n",
      "       'Bwd Pkt Len Max', 'Bwd Pkt Len Min', 'Bwd Pkt Len Mean',\n",
      "       'Bwd Pkt Len Std', 'Flow Byts/s', 'Flow Pkts/s', 'Flow IAT Mean',\n",
      "       'Flow IAT Std', 'Flow IAT Max', 'Flow IAT Min', 'Fwd IAT Tot',\n",
      "       'Fwd IAT Mean', 'Fwd IAT Std', 'Fwd IAT Max', 'Fwd IAT Min',\n",
      "       'Bwd IAT Tot', 'Bwd IAT Mean', 'Bwd IAT Std', 'Bwd IAT Max',\n",
      "       'Bwd IAT Min', 'Fwd PSH Flags', 'Bwd PSH Flags', 'Fwd URG Flags',\n",
      "       'Bwd URG Flags', 'Fwd Header Len', 'Bwd Header Len', 'Fwd Pkts/s',\n",
      "       'Bwd Pkts/s', 'Pkt Len Min', 'Pkt Len Max', 'Pkt Len Mean',\n",
      "       'Pkt Len Std', 'Pkt Len Var', 'FIN Flag Cnt', 'SYN Flag Cnt',\n",
      "       'RST Flag Cnt', 'PSH Flag Cnt', 'ACK Flag Cnt', 'URG Flag Cnt',\n",
      "       'CWE Flag Count', 'ECE Flag Cnt', 'Down/Up Ratio', 'Pkt Size Avg',\n",
      "       'Fwd Seg Size Avg', 'Bwd Seg Size Avg', 'Fwd Byts/b Avg',\n",
      "       'Fwd Pkts/b Avg', 'Fwd Blk Rate Avg', 'Bwd Byts/b Avg',\n",
      "       'Bwd Pkts/b Avg', 'Bwd Blk Rate Avg', 'Subflow Fwd Pkts',\n",
      "       'Subflow Fwd Byts', 'Subflow Bwd Pkts', 'Subflow Bwd Byts',\n",
      "       'Init Fwd Win Byts', 'Init Bwd Win Byts', 'Fwd Act Data Pkts',\n",
      "       'Fwd Seg Size Min', 'Active Mean', 'Active Std', 'Active Max',\n",
      "       'Active Min', 'Idle Mean', 'Idle Std', 'Idle Max', 'Idle Min', 'Label'],\n",
      "      dtype='object')\n"
     ]
    }
   ],
   "source": [
    "print(\"Columns in the DataFrame:\", data.columns)"
   ]
  },
  {
   "cell_type": "code",
   "execution_count": 22,
   "id": "851c9bb6-d8c7-410f-a923-b93fafc51a8a",
   "metadata": {},
   "outputs": [
    {
     "name": "stdout",
     "output_type": "stream",
     "text": [
      "Columns in the DataFrame after standardization: Index(['dst_port', 'protocol', 'timestamp', 'flow_duration', 'tot_fwd_pkts',\n",
      "       'tot_bwd_pkts', 'totlen_fwd_pkts', 'totlen_bwd_pkts', 'fwd_pkt_len_max',\n",
      "       'fwd_pkt_len_min', 'fwd_pkt_len_mean', 'fwd_pkt_len_std',\n",
      "       'bwd_pkt_len_max', 'bwd_pkt_len_min', 'bwd_pkt_len_mean',\n",
      "       'bwd_pkt_len_std', 'flow_byts/s', 'flow_pkts/s', 'flow_iat_mean',\n",
      "       'flow_iat_std', 'flow_iat_max', 'flow_iat_min', 'fwd_iat_tot',\n",
      "       'fwd_iat_mean', 'fwd_iat_std', 'fwd_iat_max', 'fwd_iat_min',\n",
      "       'bwd_iat_tot', 'bwd_iat_mean', 'bwd_iat_std', 'bwd_iat_max',\n",
      "       'bwd_iat_min', 'fwd_psh_flags', 'bwd_psh_flags', 'fwd_urg_flags',\n",
      "       'bwd_urg_flags', 'fwd_header_len', 'bwd_header_len', 'fwd_pkts/s',\n",
      "       'bwd_pkts/s', 'pkt_len_min', 'pkt_len_max', 'pkt_len_mean',\n",
      "       'pkt_len_std', 'pkt_len_var', 'fin_flag_cnt', 'syn_flag_cnt',\n",
      "       'rst_flag_cnt', 'psh_flag_cnt', 'ack_flag_cnt', 'urg_flag_cnt',\n",
      "       'cwe_flag_count', 'ece_flag_cnt', 'down/up_ratio', 'pkt_size_avg',\n",
      "       'fwd_seg_size_avg', 'bwd_seg_size_avg', 'fwd_byts/b_avg',\n",
      "       'fwd_pkts/b_avg', 'fwd_blk_rate_avg', 'bwd_byts/b_avg',\n",
      "       'bwd_pkts/b_avg', 'bwd_blk_rate_avg', 'subflow_fwd_pkts',\n",
      "       'subflow_fwd_byts', 'subflow_bwd_pkts', 'subflow_bwd_byts',\n",
      "       'init_fwd_win_byts', 'init_bwd_win_byts', 'fwd_act_data_pkts',\n",
      "       'fwd_seg_size_min', 'active_mean', 'active_std', 'active_max',\n",
      "       'active_min', 'idle_mean', 'idle_std', 'idle_max', 'idle_min', 'label'],\n",
      "      dtype='object')\n"
     ]
    }
   ],
   "source": [
    "# Standardize column names by converting to lowercase and removing spaces\n",
    "data.columns = data.columns.str.lower().str.replace(' ', '_')\n",
    "\n",
    "# Standardize the numerical column names to match\n",
    "numerical_cols = [col.lower().replace(' ', '_') for col in numerical_cols]\n",
    "\n",
    "# Check columns in the DataFrame after modification\n",
    "print(\"Columns in the DataFrame after standardization:\", data.columns)\n"
   ]
  },
  {
   "cell_type": "code",
   "execution_count": 23,
   "id": "91790189-e198-40f6-9a42-b0ce61bd6de0",
   "metadata": {},
   "outputs": [
    {
     "name": "stdout",
     "output_type": "stream",
     "text": [
      "Numerical features standardized.\n"
     ]
    }
   ],
   "source": [
    "# Verify if the standardized numerical columns exist in the DataFrame\n",
    "numerical_cols = [col for col in numerical_cols if col in data.columns]\n",
    "\n",
    "# Apply StandardScaler if numerical columns exist\n",
    "if data.shape[0] > 0 and numerical_cols:\n",
    "    scaler = StandardScaler()\n",
    "    data[numerical_cols] = scaler.fit_transform(data[numerical_cols])\n",
    "    print(\"Numerical features standardized.\")\n",
    "else:\n",
    "    print(\"No rows or numerical columns available for standardization.\")\n"
   ]
  },
  {
   "cell_type": "code",
   "execution_count": 24,
   "id": "94cdacc9-84a6-4d7b-82e6-f76fec1e84ea",
   "metadata": {},
   "outputs": [
    {
     "name": "stdout",
     "output_type": "stream",
     "text": [
      "Shape after removing low-variance and correlated features: (1048575, 20)\n"
     ]
    }
   ],
   "source": [
    "# Select only numeric columns for variance threshold\n",
    "numeric_data = data.select_dtypes(include=['number'])\n",
    "\n",
    "# Remove low-variance features\n",
    "selector = VarianceThreshold(threshold=0.01)\n",
    "numeric_data = pd.DataFrame(selector.fit_transform(numeric_data), \n",
    "                            columns=[col for col, keep in zip(numeric_data.columns, selector.get_support()) if keep])\n",
    "\n",
    "# Now, update the original DataFrame with the filtered numeric data\n",
    "data = data[numeric_data.columns]\n",
    "\n",
    "# Remove highly correlated features\n",
    "correlation_matrix = data.corr().abs()\n",
    "upper_triangle = correlation_matrix.where(np.triu(np.ones(correlation_matrix.shape), k=1).astype(bool))\n",
    "to_drop = [column for column in upper_triangle.columns if any(upper_triangle[column] > 0.9)]\n",
    "data = data.drop(columns=to_drop)\n",
    "\n",
    "# Print the new shape after feature removal\n",
    "print(f\"Shape after removing low-variance and correlated features: {data.shape}\")\n"
   ]
  },
  {
   "cell_type": "code",
   "execution_count": 25,
   "id": "296cea59-33fd-40f1-b685-8dbab5ce6887",
   "metadata": {},
   "outputs": [
    {
     "name": "stdout",
     "output_type": "stream",
     "text": [
      "Final dataset summary:\n",
      "<class 'pandas.core.frame.DataFrame'>\n",
      "RangeIndex: 1048575 entries, 0 to 1048574\n",
      "Data columns (total 20 columns):\n",
      " #   Column           Non-Null Count    Dtype  \n",
      "---  ------           --------------    -----  \n",
      " 0   dst_port         1048575 non-null  float64\n",
      " 1   protocol         1048575 non-null  float64\n",
      " 2   tot_fwd_pkts     1048575 non-null  float64\n",
      " 3   tot_bwd_pkts     1048575 non-null  float64\n",
      " 4   fwd_pkt_len_min  1048575 non-null  float64\n",
      " 5   bwd_pkt_len_min  1048575 non-null  float64\n",
      " 6   flow_byts/s      1048575 non-null  float64\n",
      " 7   flow_pkts/s      1048575 non-null  float64\n",
      " 8   flow_iat_mean    1048575 non-null  float64\n",
      " 9   flow_iat_std     1048575 non-null  float64\n",
      " 10  flow_iat_min     1048575 non-null  float64\n",
      " 11  bwd_iat_tot      1048575 non-null  float64\n",
      " 12  bwd_iat_mean     1048575 non-null  float64\n",
      " 13  bwd_iat_min      1048575 non-null  float64\n",
      " 14  fwd_psh_flags    1048575 non-null  float64\n",
      " 15  bwd_pkts/s       1048575 non-null  float64\n",
      " 16  fin_flag_cnt     1048575 non-null  float64\n",
      " 17  urg_flag_cnt     1048575 non-null  float64\n",
      " 18  active_mean      1048575 non-null  float64\n",
      " 19  active_std       1048575 non-null  float64\n",
      "dtypes: float64(20)\n",
      "memory usage: 160.0 MB\n",
      "None\n"
     ]
    }
   ],
   "source": [
    "print(\"Final dataset summary:\")\n",
    "print(data.info())"
   ]
  },
  {
   "cell_type": "code",
   "execution_count": 26,
   "id": "7ba9ca58-3792-4ebc-ae81-0478d9955801",
   "metadata": {},
   "outputs": [
    {
     "name": "stdout",
     "output_type": "stream",
     "text": [
      "   dst_port   protocol  tot_fwd_pkts  tot_bwd_pkts  fwd_pkt_len_min  \\\n",
      "0 -0.717368  -0.058424     -0.039153      1.144112        -0.028397   \n",
      "1 -0.701923  16.875478     -0.039561     -0.886451        55.662668   \n",
      "2 -0.701923  16.875478     -0.039561     -0.886451        55.662668   \n",
      "3 -0.701923  16.875478     -0.039153     -0.886451        55.662668   \n",
      "4 -0.701923  16.875478     -0.039153     -0.886451        55.662668   \n",
      "\n",
      "   bwd_pkt_len_min  flow_byts/s  flow_pkts/s  flow_iat_mean  flow_iat_std  \\\n",
      "0         -0.00247    -0.634935    -0.368136      -0.034505     -0.029354   \n",
      "1         -0.00247    -0.652227    -0.414674      83.265445     54.617894   \n",
      "2         -0.00247    -0.652227    -0.414674      83.265445     54.617894   \n",
      "3         -0.00247    -0.652196    -0.414669      35.236045     78.043462   \n",
      "4         -0.00247    -0.652196    -0.414669      35.236045     78.043462   \n",
      "\n",
      "   flow_iat_min  bwd_iat_tot  bwd_iat_mean  bwd_iat_min  fwd_psh_flags  \\\n",
      "0     -0.026600     0.052022      0.198572    -0.084383      -0.004683   \n",
      "1     84.168014    -0.017539     -0.078306    -0.104238      -0.004683   \n",
      "2     84.168014    -0.017539     -0.078306    -0.104238      -0.004683   \n",
      "3      7.992474    -0.017539     -0.078306    -0.104238      -0.004683   \n",
      "4      7.992466    -0.017539     -0.078306    -0.104238      -0.004683   \n",
      "\n",
      "   bwd_pkts/s  fin_flag_cnt  urg_flag_cnt  active_mean  active_std  \n",
      "0   -0.407821     -0.000977     -0.005524    -0.036990   -0.025032  \n",
      "1   -0.485986     -0.000977     -0.005524    -0.036990   -0.025032  \n",
      "2   -0.485986     -0.000977     -0.005524    -0.036990   -0.025032  \n",
      "3   -0.485986     -0.000977     -0.005524    19.635454   -0.025032  \n",
      "4   -0.485986     -0.000977     -0.005524    19.635434   -0.025032  \n"
     ]
    }
   ],
   "source": [
    "print(data.head())"
   ]
  },
  {
   "cell_type": "code",
   "execution_count": null,
   "id": "2458a809-110d-4f98-9fd2-3ce28dbc1b97",
   "metadata": {},
   "outputs": [],
   "source": []
  }
 ],
 "metadata": {
  "kernelspec": {
   "display_name": "Python 3 (ipykernel)",
   "language": "python",
   "name": "python3"
  },
  "language_info": {
   "codemirror_mode": {
    "name": "ipython",
    "version": 3
   },
   "file_extension": ".py",
   "mimetype": "text/x-python",
   "name": "python",
   "nbconvert_exporter": "python",
   "pygments_lexer": "ipython3",
   "version": "3.11.7"
  }
 },
 "nbformat": 4,
 "nbformat_minor": 5
}
